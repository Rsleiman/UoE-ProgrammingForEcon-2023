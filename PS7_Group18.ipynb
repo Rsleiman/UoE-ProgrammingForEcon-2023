{
 "cells": [
  {
   "cell_type": "markdown",
   "id": "bf38944c",
   "metadata": {},
   "source": [
    "# Problem Set 7 - Group 18"
   ]
  },
  {
   "cell_type": "markdown",
   "id": "f456c5de",
   "metadata": {},
   "source": [
    "### Imports"
   ]
  },
  {
   "cell_type": "code",
   "execution_count": 1,
   "id": "d87313cb",
   "metadata": {},
   "outputs": [],
   "source": [
    "import matplotlib.pyplot as plt\n",
    "plt.rcParams[\"figure.figsize\"] = (11, 5)  #set default figure size\n",
    "import numpy as np\n",
    "from scipy.interpolate import interp1d\n",
    "from scipy.optimize import minimize_scalar\n",
    "import quantecon as qe\n"
   ]
  },
  {
   "cell_type": "markdown",
   "id": "726cbd21",
   "metadata": {},
   "source": [
    "## Problem 1"
   ]
  },
  {
   "cell_type": "markdown",
   "id": "1e09da93",
   "metadata": {},
   "source": [
    "#### Set up"
   ]
  },
  {
   "cell_type": "code",
   "execution_count": 2,
   "id": "0359bcf7",
   "metadata": {},
   "outputs": [],
   "source": [
    "# Defining parameters\n",
    "alpha = 1/3\n",
    "beta = 0.95\n",
    "delta = 0.05\n",
    "sigma = 2\n",
    "nu = 2\n",
    "A = 1\n",
    "phi = 1\n",
    "\n",
    "# Defining utility function:\n",
    "def u(c,l):\n",
    "    return c**(1-sigma)/(1-sigma) - phi*(l**(1+1/nu)/(1+1/nu)) if c>0 else -1*np.inf\n",
    "\n",
    "# Defining production function:\n",
    "def F(k,l):\n",
    "    return A * (k ** alpha) * (l ** (1 - alpha))"
   ]
  },
  {
   "cell_type": "markdown",
   "id": "97659743",
   "metadata": {},
   "source": [
    "### Part a "
   ]
  },
  {
   "cell_type": "code",
   "execution_count": 3,
   "id": "d0bfd7de",
   "metadata": {},
   "outputs": [],
   "source": [
    "def update_bellman(params, V, policy_k_prime, policy_l, k_grid, l_grid, V0):\n",
    "    beta, delta = params    # All other parameters are predefined in previous functions, and don't change throughout problem\n",
    "    n_k = len(k_grid)       # Allows us to loop over each possible k value\n",
    "    n_l = len(l_grid)       # Allows us to loop over each possible l value\n",
    "\n",
    "    for i in range(n_k):\n",
    "        k = k_grid[i]       # Choose a k as our state variable\n",
    "\n",
    "        # Initialize values to find\n",
    "        v_max = -1*np.inf\n",
    "        i_max = [0,0]\n",
    "        for j in range(n_k):                \n",
    "            k_prime = k_grid[j]             # Check for each possible value of k as k'\n",
    "            for m in range(n_l):\n",
    "                l = l_grid[m]               # Check for each possible value of l\n",
    "                z = F(k,l) + (1-delta)*k    # Compute 'Cash at hand'\n",
    "                c = z - k_prime             # Compute consumption\n",
    "\n",
    "                v = u(c,l) + beta*V0[j]     # Use assigned variables to find v\n",
    "\n",
    "                if v > v_max:               \n",
    "                    v_max = v\n",
    "                    i_max = [j,m]\n",
    "\n",
    "        # After completing the k iteration, assign values in correpsonding locations in arrays\n",
    "        V[i] = v_max                        \n",
    "        policy_k_prime[i] = i_max[0]\n",
    "        policy_l[i] = i_max[1]"
   ]
  },
  {
   "cell_type": "code",
   "execution_count": 28,
   "id": "d7b35d8e",
   "metadata": {},
   "outputs": [],
   "source": [
    "def VFI_grid(params, k_grid, l_grid, V0, tol = 1e-6):\n",
    "    n = np.size(V0)\n",
    "\n",
    "    # Create value and policy arrays the same size as V0\n",
    "    V = np.zeros(n)\n",
    "    policy_k_prime = np.zeros(n)\n",
    "    policy_l = np.zeros(n)\n",
    "\n",
    "    # Start with 0 iterations\n",
    "    iter = 0\n",
    "    max_iter = 500\n",
    "    # Loop update_bellman equation until convergence\n",
    "    while True:\n",
    "        iter += 1\n",
    "        update_bellman(params,V, policy_k_prime, policy_l, k_grid, l_grid, V0)\n",
    "        if np.max(abs(V-V0)) < tol:\n",
    "            break\n",
    "        elif iter > max_iter:\n",
    "            break\n",
    "        V0 = V.copy()\n",
    "\n",
    "    return {\"V\":V, \"p_k_prime\":policy_k_prime, \"p_l\":policy_l, \"nit\":iter, \"V0\":V0}"
   ]
  },
  {
   "cell_type": "code",
   "execution_count": null,
   "id": "90f45019",
   "metadata": {},
   "outputs": [],
   "source": [
    "# Assign arguments:\n",
    "n = 100\n",
    "k_grid = np.linspace(0.001,10,100)\n",
    "l_grid = np.linspace(0,1,20)\n",
    "V0 = np.zeros(n)\n",
    "params = [beta,delta]\n",
    "\n",
    "# Start Value Function Iteration\n",
    "solution = VFI_grid(params, k_grid, l_grid, V0)"
   ]
  },
  {
   "cell_type": "code",
   "execution_count": null,
   "id": "8680795d",
   "metadata": {},
   "outputs": [],
   "source": [
    "solution"
   ]
  },
  {
   "cell_type": "code",
   "execution_count": null,
   "id": "a8b03c94",
   "metadata": {},
   "outputs": [],
   "source": [
    "def absolute_error(X, X0):\n",
    "    return np.max(np.abs(X - X0))\n",
    "\n",
    "errors = absolute_error(solution['V'], solution['V0'])\n",
    "\n",
    "\n",
    "plt.plot(np.arange(len(errors)), errors, 'o-')\n",
    "plt.yscale('log')\n",
    "plt.title('Convergence of VFI')\n",
    "plt.xlabel('Number of Iterations')\n",
    "plt.ylabel(r'$||v_s - v_{s-1}||$')\n",
    "yticks = [10**i for i in range(0, -13, -2)]\n",
    "plt.yticks(yticks)\n",
    "plt.show()"
   ]
  },
  {
   "cell_type": "markdown",
   "id": "ac897192",
   "metadata": {},
   "source": [
    "We managed to reach convergence. It took 312 iterations.\n",
    "\n",
    "However, it doesn't seem to converge to the true value, given that all of the elements in our final V array are negative. We conclude that the methodology of our bellman function is probably correct, but we have made a mistake in our assignment of values/evaluating functions."
   ]
  },
  {
   "cell_type": "markdown",
   "id": "967b6796",
   "metadata": {},
   "source": [
    "### Part b"
   ]
  },
  {
   "cell_type": "markdown",
   "id": "7cbe044d",
   "metadata": {},
   "source": [
    "### Part c"
   ]
  },
  {
   "cell_type": "markdown",
   "id": "a155852b",
   "metadata": {},
   "source": [
    "#### How we would approach this question:\n",
    "    \n",
    "    1. define the parameters, and grid for K and L\n",
    "    \n",
    "    beta = 0.95\n",
    "    delta = 0.05\n",
    "    sigma = 2\n",
    "    nu = 2\n",
    "    alpha = 1/3\n",
    "    A = 1\n",
    "    phi = 1\n",
    "\n",
    "    2. define the utility & production function\n",
    "    \n",
    "    def utility(c, l):\n",
    "    return (c**(1-sigma))/(1-sigma) - phi*(l**(1+1/nu))/(1+1/nu)\n",
    "    \n",
    "    def production(k, l):\n",
    "    return A*(k**alpha)*(l**(1-alpha))\n",
    "\n",
    "\n",
    "    3. define the objective function for the max. problem\n",
    "    \n",
    "    def obj_function(c, k, k', l, v):\n",
    "    return -u(c, l) - beta*v(k')\n",
    "\n",
    "    4. loop over the grid points and use the Newton-Raphson method to solve the maximization problem and cubic splines to interpolate the value function\n",
    "    "
   ]
  },
  {
   "cell_type": "markdown",
   "id": "317d37bf",
   "metadata": {},
   "source": [
    "### Part d"
   ]
  },
  {
   "cell_type": "markdown",
   "id": "463ebf1e",
   "metadata": {},
   "source": [
    "### Part e"
   ]
  },
  {
   "cell_type": "markdown",
   "id": "15520471",
   "metadata": {},
   "source": [
    "## Problem 2"
   ]
  },
  {
   "cell_type": "markdown",
   "id": "43db6a6a",
   "metadata": {},
   "source": [
    "### Thinking space"
   ]
  },
  {
   "cell_type": "markdown",
   "id": "1b4f9c8c",
   "metadata": {},
   "source": [
    "#### income is AR(1) process -> need to use rowenhorst to find transition matrix \n",
    "#### \n",
    "#### need objective function to find EV matrix; here \n",
    "\n",
    "# v(a,y) = max u(c) + beta* E[a', y' | y]\n",
    "####                                        c, a'\n",
    "####       -> outcome of y determines optimal c and theby a'\n",
    "####       -> can set up problem to choose c and a' becomes an outcome \n",
    "#### \n",
    "####  c= (1+r)*a+y - a'  -> a' = (1+r)*a + y - c         \n",
    "####  a≥0\n",
    "#### log(y') ≈ N(mu + rho * log(y), sigma_e)"
   ]
  },
  {
   "cell_type": "markdown",
   "id": "b476e6f3",
   "metadata": {},
   "source": [
    "### Part a "
   ]
  },
  {
   "cell_type": "code",
   "execution_count": 18,
   "id": "23136725",
   "metadata": {},
   "outputs": [
    {
     "name": "stdout",
     "output_type": "stream",
     "text": [
      "[[0. 0. 0. ... 0. 0. 0.]\n",
      " [0. 0. 0. ... 0. 0. 0.]\n",
      " [0. 0. 0. ... 0. 0. 0.]\n",
      " ...\n",
      " [0. 0. 0. ... 0. 0. 0.]\n",
      " [0. 0. 0. ... 0. 0. 0.]\n",
      " [0. 0. 0. ... 0. 0. 0.]]\n",
      "[[ 2.63628492e-02  2.04440139e-01  7.44085125e-01 ... -3.66925278e-03\n",
      "  -1.09630714e-03 -1.65683062e-04]\n",
      " [ 2.87472331e-02  2.28320125e-01  8.40824452e-01 ... -3.66767714e-03\n",
      "  -1.09584232e-03 -1.65613499e-04]\n",
      " [ 3.18319565e-02  2.60982219e-01  9.75610471e-01 ... -3.66610286e-03\n",
      "  -1.09537790e-03 -1.65543994e-04]\n",
      " ...\n",
      " [ 6.53653021e-01  4.82678980e+00  1.71939186e+01 ... -3.59663469e-03\n",
      "  -1.07487882e-03 -1.62475563e-04]\n",
      " [ 6.53662107e-01  4.82684654e+00  1.71941002e+01 ... -3.59512089e-03\n",
      "  -1.07443200e-03 -1.62408668e-04]\n",
      " [ 6.53670761e-01  4.82690064e+00  1.71942734e+01 ... -3.59360836e-03\n",
      "  -1.07398555e-03 -1.62341828e-04]]\n"
     ]
    },
    {
     "name": "stderr",
     "output_type": "stream",
     "text": [
      "C:\\Users\\ralph\\AppData\\Local\\Temp\\ipykernel_39528\\2166625032.py:25: UserWarning: The API of rouwenhorst has changed from `rouwenhorst(n, ybar, sigma, rho)` to `rouwenhorst(n, rho, sigma, mu=0.)`. To find more details please visit: https://github.com/QuantEcon/QuantEcon.py/issues/663.\n",
      "  mc = qe.rouwenhorst(n=y_size, mu=mu , rho=rho, sigma=sigma_e) # use y_site since y is stochastic  #What is ybar, ie what value? # How to incorporate the error term?\n"
     ]
    },
    {
     "data": {
      "text/plain": [
       "[<matplotlib.lines.Line2D at 0x22ecafc3e80>]"
      ]
     },
     "execution_count": 18,
     "metadata": {},
     "output_type": "execute_result"
    },
    {
     "data": {
      "image/png": "[encoded data removed]",
      "text/plain": [
       "<Figure size 1100x500 with 1 Axes>"
      ]
     },
     "metadata": {},
     "output_type": "display_data"
    }
   ],
   "source": [
    "#parameters \n",
    "beta = 0.95 \n",
    "r = 0.04\n",
    "mu = 0.5 \n",
    "rho = 0.8\n",
    "sigma_e = 0.1 \n",
    "sigma_u = 2 #degree of risk avesion \n",
    "error=[]\n",
    "\n",
    "def utility(c):\n",
    "    u = (c**(1-sigma_u)) / (1- sigma_u) \n",
    "    return u \n",
    "\n",
    "\n",
    "def solv_vfi_2(a_grid, V0):\n",
    "    tol = 1e-13\n",
    "    max_iterations = 500\n",
    "    \n",
    "    V0 = V0\n",
    "    V = np.zeros((a_size, y_size))\n",
    "    policy = np.zeros((a_size, y_size))\n",
    "    iterations=0\n",
    "    errors = np.empty(shape=(1,1))\n",
    "    \n",
    "    mc = qe.rouwenhorst(n=y_size, mu=mu , rho=rho, sigma=sigma_e) # use y_site since y is stochastic  #What is ybar, ie what value? # How to incorporate the error term?\n",
    "    P = mc.P #Transition Matrix \n",
    "    y_grid = mc.state_values #Transition Matrix of income \n",
    "    \n",
    "    while True:\n",
    "        iterations +=1 \n",
    "        \n",
    "        # Step 1: Calcualte Expectations \n",
    "        EV = V @ P\n",
    "        print(EV)\n",
    "        \n",
    "        #Step 2: Update Bellman Equations \n",
    "        update_bellman2(V, policy, a_grid, y_grid, EV)\n",
    "        \n",
    "        # Step 3: Check for convergence \n",
    "        eps_abs = abs(V-V0)\n",
    "        eps = np.amax(eps_abs)\n",
    "        error.append(eps)\n",
    "    \n",
    "        if eps < tol:\n",
    "            break \n",
    "        if iterations > max_iterations:\n",
    "            break \n",
    "        V0=V\n",
    "    \n",
    "    return V, policy, iterations, errors, c_grid, y_grid\n",
    "    \n",
    "    \n",
    "def update_bellman2( V, policy, a_grid, y_grid, EV):\n",
    "    for ai, yi in np.ndindex((a_size, y_size)):\n",
    "        # extract k and A values from the grid parameters\n",
    "        a, y = a_grid[ai], np.exp(y_grid[yi])\n",
    "        \n",
    "        # 'Cash on hand'\n",
    "        z = (1+r) * a + y     # Cash = Asset Value + income \n",
    "        a_prime = a_grid \n",
    "        c = z - a_prime\n",
    "        \n",
    "        # calculate the value function and policy for this (k, A) pair\n",
    "        value = utility(c) + beta * EV[:, yi]\n",
    "        vmax, pol_index = np.max(value), np.argmax(value)\n",
    "        pol = a_grid[pol_index]\n",
    "        \n",
    "        # store the value and policy\n",
    "        V[ai, yi] = vmax\n",
    "        policy[ai, yi] = pol\n",
    "        EV = V\n",
    "    return \n",
    "    \n",
    "\n",
    "a_size = 50\n",
    "y_size = 50\n",
    "c_size = 50\n",
    "\n",
    "c_grid = np.linspace(1e-6, 20, c_size)\n",
    "a_grid = np.linspace(0, 20, a_size)\n",
    "\n",
    "V=np.zeros((y_size, a_size))\n",
    "V0=np.zeros((y_size, a_size))\n",
    "c=np.zeros((y_size, a_size))\n",
    "a=np.zeros((y_size, a_size))\n",
    "\n",
    "V0 = np.zeros((a_size, y_size))\n",
    "\n",
    "\n",
    "solution = solv_vfi_2(a_grid, V0)  \n",
    "\n",
    "plt.plot(solution[4], solution[5])"
   ]
  },
  {
   "cell_type": "markdown",
   "id": "e83f0a89",
   "metadata": {},
   "source": [
    "### Part b"
   ]
  },
  {
   "cell_type": "code",
   "execution_count": 19,
   "id": "765233e4",
   "metadata": {},
   "outputs": [
    {
     "ename": "NameError",
     "evalue": "name 'P' is not defined",
     "output_type": "error",
     "traceback": [
      "\u001b[1;31m---------------------------------------------------------------------------\u001b[0m",
      "\u001b[1;31mNameError\u001b[0m                                 Traceback (most recent call last)",
      "\u001b[1;32m~\\AppData\\Local\\Temp\\ipykernel_39528\\3053374463.py\u001b[0m in \u001b[0;36m<module>\u001b[1;34m\u001b[0m\n\u001b[1;32m----> 1\u001b[1;33m \u001b[0mnp\u001b[0m\u001b[1;33m.\u001b[0m\u001b[0msum\u001b[0m\u001b[1;33m(\u001b[0m\u001b[0mP\u001b[0m\u001b[1;33m,\u001b[0m \u001b[0maxis\u001b[0m\u001b[1;33m=\u001b[0m\u001b[1;36m1\u001b[0m\u001b[1;33m)\u001b[0m \u001b[1;31m# all columns sum to 1\u001b[0m\u001b[1;33m\u001b[0m\u001b[1;33m\u001b[0m\u001b[0m\n\u001b[0m\u001b[0;32m      2\u001b[0m \u001b[0mcol_l\u001b[0m \u001b[1;33m=\u001b[0m \u001b[0mround\u001b[0m\u001b[1;33m(\u001b[0m\u001b[0my_size\u001b[0m\u001b[1;33m/\u001b[0m\u001b[1;36m2\u001b[0m\u001b[1;33m)\u001b[0m \u001b[1;31m#find middle column in probabilites\u001b[0m\u001b[1;33m\u001b[0m\u001b[1;33m\u001b[0m\u001b[0m\n\u001b[0;32m      3\u001b[0m \u001b[0mcol_u\u001b[0m \u001b[1;33m=\u001b[0m \u001b[0mcol_l\u001b[0m \u001b[1;33m+\u001b[0m\u001b[1;36m1\u001b[0m\u001b[1;33m\u001b[0m\u001b[1;33m\u001b[0m\u001b[0m\n\u001b[0;32m      4\u001b[0m \u001b[0mmid_P\u001b[0m\u001b[1;33m=\u001b[0m \u001b[0mP\u001b[0m\u001b[1;33m[\u001b[0m \u001b[1;33m:\u001b[0m \u001b[1;33m,\u001b[0m \u001b[0mcol_l\u001b[0m\u001b[1;33m:\u001b[0m\u001b[0mcol_u\u001b[0m\u001b[1;33m]\u001b[0m \u001b[1;31m# isolate the middle column in incomes\u001b[0m\u001b[1;33m\u001b[0m\u001b[1;33m\u001b[0m\u001b[0m\n\u001b[0;32m      5\u001b[0m \u001b[1;33m\u001b[0m\u001b[0m\n",
      "\u001b[1;31mNameError\u001b[0m: name 'P' is not defined"
     ]
    }
   ],
   "source": [
    " np.sum(P, axis=1) # all columns sum to 1 \n",
    "col_l = round(y_size/2) #find middle column in probabilites \n",
    "col_u = col_l +1\n",
    "mid_P= P[ : , col_l:col_u] # isolate the middle column in incomes \n",
    "\n",
    "prop = 1 * np.cumsum(mid_P) / (sum(mid_P)) #find CDF of median income path\n",
    "plt.plot(prop) #plot CDF\n",
    "\n",
    "\n",
    "draws=[] #draws shows the index at the income grid at which each of the 5 individuals will start \n",
    "uni_draws = np.random.uniform(size=5)\n",
    "for i in range(0,5):\n",
    "    draw_i = np.searchsorted(prop, uni_draws[i], side='left')\n",
    "    draws.append(draw_i)\n",
    "\n",
    "\n",
    "#!!! INSERT LOOP FOR EACH OF THE 5 PEOPLE \n",
    "\n",
    "# ?? Where do we choose the initial value of y in the loop ? \n"
   ]
  },
  {
   "cell_type": "markdown",
   "id": "5c726db7",
   "metadata": {},
   "source": [
    "### Part c"
   ]
  },
  {
   "cell_type": "markdown",
   "id": "013d2f44",
   "metadata": {},
   "source": [
    "\n",
    "#### by adding more observations (10000 workers) and 200 time periods, we would expect the asset holdings of all workers to converge towards a steady state. Workers accumulate more and more wealth until they all have similar shares of wealth. Workers which start of poor will save more initially to increase consumption in the future Workers who start of rich will save comparatively little at first and consume relatively more. Eventually all workers experience similar levels of consumption smoothing. Consider the RCK Model, all households will eventually reach the same level of consumption in a smooth pattern. The time it takes to reach this smooth level depends on the initial starting value. Due to shocks in income, the path will not be 100% smooth however it will be more or less smooth in the long run as assets yield risk-free returns. "
   ]
  },
  {
   "cell_type": "markdown",
   "id": "213ef88d",
   "metadata": {},
   "source": [
    "### Part d"
   ]
  },
  {
   "cell_type": "markdown",
   "id": "4a06345d",
   "metadata": {},
   "source": [
    "#### Repeat analysis above however change z = 0.75((1+r)*a + y ). We should be able to run code just like before however now with new BC which incorporates the taxation . We must assume taxation is spent on goods which cannot be bought on the market, hence they do not affect the utility of the individual (if government expenditure was spent on market goods, eg food vouchers, there might be substitution effect and more money will be saved rather than spend on consumption)"
   ]
  },
  {
   "cell_type": "markdown",
   "id": "697622ff",
   "metadata": {},
   "source": [
    "### Part e"
   ]
  },
  {
   "cell_type": "markdown",
   "id": "9abde9f1",
   "metadata": {},
   "source": [
    "#### To reach the same level of taxation revenue as in Q2d but only taking labour income, the taxation rate must by higher than 25%. Households may start to prefer to save more in order to live of return on savings as these are not taxed (consumers are risk averse, hence aim for income smoothing), which can be achieved by saving more ad relying on un-taxed capital income from savings. We would expect savings and welfare to differe between the two systems. System 2 would have higher savings and lower utility compared to the System 1."
   ]
  },
  {
   "cell_type": "code",
   "execution_count": null,
   "id": "850a5d99",
   "metadata": {},
   "outputs": [],
   "source": []
  },
  {
   "cell_type": "code",
   "execution_count": null,
   "id": "1eb1a913",
   "metadata": {},
   "outputs": [],
   "source": []
  }
 ],
 "metadata": {
  "kernelspec": {
   "display_name": "Python 3 (ipykernel)",
   "language": "python",
   "name": "python3"
  },
  "language_info": {
   "codemirror_mode": {
    "name": "ipython",
    "version": 3
   },
   "file_extension": ".py",
   "mimetype": "text/x-python",
   "name": "python",
   "nbconvert_exporter": "python",
   "pygments_lexer": "ipython3",
   "version": "3.9.12"
  }
 },
 "nbformat": 4,
 "nbformat_minor": 5
}
