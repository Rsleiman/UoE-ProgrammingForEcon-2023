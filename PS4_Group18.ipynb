{
 "cells": [
  {
   "cell_type": "markdown",
   "id": "983d1b72",
   "metadata": {},
   "source": [
    "# Problem Set 4 - Group 18"
   ]
  },
  {
   "cell_type": "markdown",
   "id": "806611be",
   "metadata": {},
   "source": [
    "#### Imports"
   ]
  },
  {
   "cell_type": "code",
   "execution_count": 35,
   "id": "516cc28e",
   "metadata": {},
   "outputs": [],
   "source": [
    "import numpy as np\n",
    "import matplotlib.pyplot as plt\n",
    "from matplotlib import cm\n",
    "import quantecon as qe\n",
    "from scipy import optimize"
   ]
  },
  {
   "cell_type": "markdown",
   "id": "b240e2dd",
   "metadata": {},
   "source": [
    "## Exercise 1"
   ]
  },
  {
   "cell_type": "markdown",
   "id": "422872d2",
   "metadata": {},
   "source": [
    "#### Part a"
   ]
  },
  {
   "cell_type": "code",
   "execution_count": 36,
   "id": "eb6177ef",
   "metadata": {},
   "outputs": [],
   "source": [
    "def rosen(X):\n",
    "    function = 0    # Create empty variable\n",
    "    N = len(X)      # Defines number of dimensions of Rosernberg function\n",
    "    for n in range(N-1):\n",
    "        function += ((1-X[n])**2 + (X[n+1] - X[n]**2)**2)   \n",
    "    return function"
   ]
  },
  {
   "cell_type": "markdown",
   "id": "70906158",
   "metadata": {},
   "source": [
    "#### Part b"
   ]
  },
  {
   "cell_type": "code",
   "execution_count": 37,
   "id": "dcc73a75",
   "metadata": {},
   "outputs": [],
   "source": [
    "def X_ranges(N):    # Create a function that generates the ranges for a given number of dimensions\n",
    "    ranges = []\n",
    "    for n in range(N):\n",
    "        ranges.append((-2,2))\n",
    "    return ranges"
   ]
  },
  {
   "cell_type": "code",
   "execution_count": 38,
   "id": "7443637b",
   "metadata": {},
   "outputs": [
    {
     "name": "stdout",
     "output_type": "stream",
     "text": [
      "TOC: Elapsed: 0:00:0.05\n",
      "Minimum values for 3 variables is\n",
      "[1.00000773 1.00000816 0.99998657]\n"
     ]
    }
   ],
   "source": [
    "# 3 Dimensions\n",
    "N = 3\n",
    "qe.tic()\n",
    "res = optimize.brute(rosen, X_ranges(N))\n",
    "toc = qe.toc()\n",
    "print(f\"Minimum values for {N} variables is\\n{res}\")"
   ]
  },
  {
   "cell_type": "code",
   "execution_count": 39,
   "id": "1b5f912b",
   "metadata": {},
   "outputs": [
    {
     "name": "stdout",
     "output_type": "stream",
     "text": [
      "TOC: Elapsed: 0:00:0.95\n",
      "Minimum values for 4 variables is\n",
      "[1.00001192 0.99999483 0.99999232 0.9999744 ]\n"
     ]
    }
   ],
   "source": [
    "# 4 Dimensions\n",
    "N = 4\n",
    "qe.tic()\n",
    "res = optimize.brute(rosen, X_ranges(N))\n",
    "toc = qe.toc()\n",
    "print(f\"Minimum values for {N} variables is\\n{res}\")"
   ]
  },
  {
   "cell_type": "code",
   "execution_count": 40,
   "id": "10b90c00",
   "metadata": {},
   "outputs": [
    {
     "name": "stdout",
     "output_type": "stream",
     "text": [
      "TOC: Elapsed: 0:00:23.71\n",
      "Minimum values for 5 variables is\n",
      "[1.00002079 1.00002544 1.00002247 1.00002408 0.99997355]\n"
     ]
    }
   ],
   "source": [
    "# 5 Dimensions\n",
    "N = 5\n",
    "qe.tic()\n",
    "res = optimize.brute(rosen, X_ranges(N))\n",
    "toc = qe.toc()\n",
    "print(f\"Minimum values for {N} variables is\\n{res}\")"
   ]
  },
  {
   "cell_type": "markdown",
   "id": "cae47fa1",
   "metadata": {},
   "source": [
    "Computational time increases exponentially as N increases.\n",
    "A higher N means that the Rosenbrock function takes in more variables, and the total possible combinations increase exponentially.\n",
    "\n",
    "Example:\n",
    "- With N = 3 and range of 100, we have 100 * 100 * 100 = one million possible combinations,\n",
    "- With N = 4, we have 100 * 100 * 100 * 100 = one hundred million possible combinations, \n",
    "- With N = 5, we have 100 * 100 * 100 * 100 * 100 = ten billion possible combinations.\n",
    "\n",
    "Thus, it is evident that computational time increases exponentially as the number of variables N increases."
   ]
  },
  {
   "cell_type": "markdown",
   "id": "a3a98d6e",
   "metadata": {},
   "source": [
    "#### Part c"
   ]
  },
  {
   "cell_type": "code",
   "execution_count": 41,
   "id": "72206910",
   "metadata": {},
   "outputs": [
    {
     "name": "stdout",
     "output_type": "stream",
     "text": [
      "TOC: Elapsed: 0:00:0.10\n"
     ]
    },
    {
     "data": {
      "text/plain": [
       "array([0.99999997, 0.99999996, 0.99999998, 0.99999999, 0.99999997,\n",
       "       0.99999996, 0.99999999, 0.99999998, 0.99999999, 0.99999998,\n",
       "       0.99999997, 0.99999997, 0.99999998, 0.99999999, 0.99999998,\n",
       "       0.99999997, 0.99999998, 0.99999997, 0.99999997, 0.99999996,\n",
       "       0.99999998, 0.99999999, 0.99999998, 0.99999998, 0.99999998,\n",
       "       0.99999997, 0.99999997, 0.99999997, 0.99999991, 0.99999981])"
      ]
     },
     "execution_count": 41,
     "metadata": {},
     "output_type": "execute_result"
    }
   ],
   "source": [
    "# Using BFGS method:\n",
    "qe.tic()\n",
    "res_BFGS = optimize.minimize(rosen, x0=np.zeros(30), method=\"BFGS\")\n",
    "toc_BFGS = qe.toc()\n",
    "res_BFGS.x"
   ]
  },
  {
   "cell_type": "code",
   "execution_count": 42,
   "id": "d3942af9",
   "metadata": {},
   "outputs": [
    {
     "name": "stdout",
     "output_type": "stream",
     "text": [
      "TOC: Elapsed: 0:00:0.42\n"
     ]
    },
    {
     "data": {
      "text/plain": [
       "array([ 0.31365521,  0.34632585,  0.02665141,  0.12452705,  0.0735569 ,\n",
       "       -0.01462056, -0.03800573,  0.26743923,  0.22448517, -0.05536276,\n",
       "       -0.03698538, -0.09697268, -0.14043037, -0.14121111,  0.04683407,\n",
       "        0.03329068,  0.14093007,  0.10785231,  0.0973049 ,  0.01228816,\n",
       "       -0.05222262,  0.26975194,  0.11639877,  0.24277025, -0.06875607,\n",
       "        0.18332532,  0.17004997, -0.15675394,  0.12177502, -0.91721526])"
      ]
     },
     "execution_count": 42,
     "metadata": {},
     "output_type": "execute_result"
    }
   ],
   "source": [
    "# Using Nelder-Mead method:\n",
    "qe.tic()\n",
    "res_NM = optimize.minimize(rosen, x0=np.zeros(30), method=\"nelder-mead\")\n",
    "toc_NM = qe.toc()\n",
    "res_NM.x"
   ]
  },
  {
   "cell_type": "code",
   "execution_count": 43,
   "id": "699ab18f",
   "metadata": {
    "scrolled": true
   },
   "outputs": [
    {
     "name": "stdout",
     "output_type": "stream",
     "text": [
      "TOC: Elapsed: 0:00:1.24\n"
     ]
    },
    {
     "data": {
      "text/plain": [
       "array([1., 1., 1., 1., 1., 1., 1., 1., 1., 1., 1., 1., 1., 1., 1., 1., 1.,\n",
       "       1., 1., 1., 1., 1., 1., 1., 1., 1., 1., 1., 1., 1.])"
      ]
     },
     "execution_count": 43,
     "metadata": {},
     "output_type": "execute_result"
    }
   ],
   "source": [
    "# Using Powell method:\n",
    "qe.tic()\n",
    "res_P = optimize.minimize(rosen, x0=np.zeros(30), method=\"powell\")\n",
    "toc_P = qe.toc()\n",
    "res_P.x"
   ]
  },
  {
   "cell_type": "markdown",
   "id": "6f12b613",
   "metadata": {},
   "source": [
    "The fastest algorithm used was the BFGS at ≈ 0.08 seconds, and was quite precise.\n",
    "\n",
    "It is worth noting that although the Powell method was slower at ≈ 0.8 seconds, its result was perfectly precise."
   ]
  },
  {
   "cell_type": "markdown",
   "id": "19ae793b",
   "metadata": {},
   "source": [
    "#### Part d"
   ]
  },
  {
   "cell_type": "code",
   "execution_count": 44,
   "id": "7a864144",
   "metadata": {},
   "outputs": [
    {
     "name": "stdout",
     "output_type": "stream",
     "text": [
      "TOC: Elapsed: 0:00:1.41\n"
     ]
    },
    {
     "data": {
      "text/plain": [
       "array([1.00000005, 1.        , 0.99999994, 0.99999996, 0.99999998,\n",
       "       1.00000001, 1.00000002, 0.99999998, 0.99999995, 0.99999998,\n",
       "       0.99999999, 1.        , 0.99999997, 0.99999995, 0.99999995,\n",
       "       0.99999998, 1.00000005, 1.00000011, 1.00000014, 1.0000001 ,\n",
       "       1.00000007, 1.00000009, 1.0000001 , 1.00000016, 1.00000016,\n",
       "       1.00000001, 0.99999995, 1.        , 0.99999998, 1.00000005,\n",
       "       1.00000012, 0.99999998, 0.9999998 , 0.99999978, 0.9999998 ,\n",
       "       0.99999992, 0.99999999, 0.99999995, 1.00000002, 1.00000021,\n",
       "       1.00000006, 1.        , 0.99999982, 0.99999958, 0.99999986,\n",
       "       1.00000045, 1.0000003 , 0.9999995 , 0.99999966, 1.00000041,\n",
       "       0.99999993, 0.99999985, 1.0000001 , 0.99999974, 1.00000008,\n",
       "       1.00000021, 0.99999967, 0.99999979, 1.00000012, 1.0000003 ,\n",
       "       1.00000011, 0.99999957, 0.99999957, 1.00000003, 1.00000024,\n",
       "       1.00000024, 1.00000006, 0.99999992, 0.99999984, 0.99999983,\n",
       "       0.99999981, 0.9999999 , 0.99999999, 0.99999992, 0.99999996,\n",
       "       1.00000009, 1.0000001 , 1.00000008, 1.00000009, 1.        ,\n",
       "       0.9999999 , 0.99999989, 0.9999999 , 0.9999999 , 0.99999991,\n",
       "       0.99999992, 0.9999999 , 0.99999994, 0.99999999, 1.00000002,\n",
       "       1.00000002, 0.99999999, 0.99999997, 0.99999997, 0.99999998,\n",
       "       1.        , 0.99999998, 0.99999997, 0.99999996, 0.99999992])"
      ]
     },
     "execution_count": 44,
     "metadata": {},
     "output_type": "execute_result"
    }
   ],
   "source": [
    "# Using BFGS method for N = 100:\n",
    "qe.tic()\n",
    "res_BFGS = optimize.minimize(rosen, x0=np.zeros(100), method=\"BFGS\")\n",
    "toc_BFGS = qe.toc()\n",
    "res_BFGS.x"
   ]
  },
  {
   "cell_type": "code",
   "execution_count": 45,
   "id": "892dc74b",
   "metadata": {},
   "outputs": [
    {
     "name": "stdout",
     "output_type": "stream",
     "text": [
      "TOC: Elapsed: 0:00:3.96\n"
     ]
    },
    {
     "data": {
      "text/plain": [
       "array([ 0.05874143,  0.01470786, -0.02083846, -0.0418883 ,  0.04063457,\n",
       "       -0.01472373,  0.03811989, -0.04458292,  0.00772284,  0.07655169,\n",
       "       -0.05955436,  0.00779079,  0.03980727,  0.01391529, -0.00434925,\n",
       "        0.00265027, -0.03769827,  0.00576888, -0.00443135,  0.02382809,\n",
       "        0.02097055, -0.04520963,  0.10458611,  0.03105847,  0.00904556,\n",
       "        0.04191212,  0.10636358, -0.01640116,  0.05355356, -0.01675076,\n",
       "       -0.01605   ,  0.09288812,  0.00965878,  0.11312167,  0.12318261,\n",
       "       -0.05246951, -0.02755003,  0.0505212 , -0.05506114, -0.04200827,\n",
       "       -0.08034355, -0.03871741,  0.0919813 ,  0.00885582, -0.00952115,\n",
       "        0.04563715, -0.00554772,  0.05988869,  0.01017167,  0.04069798,\n",
       "        0.04359782,  0.00395848,  0.0453414 , -0.0120372 , -0.02107621,\n",
       "        0.05238814, -0.01967452,  0.0048034 ,  0.1469924 , -0.0204026 ,\n",
       "        0.08853992, -0.06387176,  0.070844  ,  0.07072985, -0.03504105,\n",
       "        0.04520559, -0.06600383,  0.01811855, -0.04164151,  0.0011109 ,\n",
       "       -0.00941617,  0.08686959,  0.01743239, -0.03146027,  0.06326673,\n",
       "        0.06311101, -0.04626258, -0.04078186, -0.01662307,  0.02713992,\n",
       "       -0.03472434,  0.07573457,  0.00450494,  0.0114336 , -0.03376354,\n",
       "       -0.08656394,  0.08071332, -0.00407094,  0.09081079, -0.02581419,\n",
       "        0.0284508 , -0.03411431, -0.01571959,  0.01528719,  0.02917407,\n",
       "        0.04643152, -0.01357176, -0.06201378,  0.05181291, -0.88455439])"
      ]
     },
     "execution_count": 45,
     "metadata": {},
     "output_type": "execute_result"
    }
   ],
   "source": [
    "# Using Nelder-Mead method:\n",
    "qe.tic()\n",
    "res_NM = optimize.minimize(rosen, x0=np.zeros(100), method=\"nelder-mead\")\n",
    "toc_NM = qe.toc()\n",
    "res_NM.x"
   ]
  },
  {
   "cell_type": "code",
   "execution_count": 46,
   "id": "83a0fe5a",
   "metadata": {},
   "outputs": [
    {
     "name": "stdout",
     "output_type": "stream",
     "text": [
      "TOC: Elapsed: 0:00:8.26\n"
     ]
    },
    {
     "data": {
      "text/plain": [
       "array([1., 1., 1., 1., 1., 1., 1., 1., 1., 1., 1., 1., 1., 1., 1., 1., 1.,\n",
       "       1., 1., 1., 1., 1., 1., 1., 1., 1., 1., 1., 1., 1., 1., 1., 1., 1.,\n",
       "       1., 1., 1., 1., 1., 1., 1., 1., 1., 1., 1., 1., 1., 1., 1., 1., 1.,\n",
       "       1., 1., 1., 1., 1., 1., 1., 1., 1., 1., 1., 1., 1., 1., 1., 1., 1.,\n",
       "       1., 1., 1., 1., 1., 1., 1., 1., 1., 1., 1., 1., 1., 1., 1., 1., 1.,\n",
       "       1., 1., 1., 1., 1., 1., 1., 1., 1., 1., 1., 1., 1., 1., 1.])"
      ]
     },
     "execution_count": 46,
     "metadata": {},
     "output_type": "execute_result"
    }
   ],
   "source": [
    "# Using Powell method:\n",
    "qe.tic()\n",
    "res_P = optimize.minimize(rosen, x0=np.zeros(100), method=\"powell\")\n",
    "toc_P = qe.toc()\n",
    "res_P.x"
   ]
  },
  {
   "cell_type": "markdown",
   "id": "b2834d21",
   "metadata": {},
   "source": [
    "#### Part e"
   ]
  },
  {
   "cell_type": "markdown",
   "id": "ff3d0ff2",
   "metadata": {},
   "source": [
    "The Rosenbrock function is a non-convex function, meaning it has multiple minima but only one global minimum.\n",
    "This poses a challenge for optimization algorithms to successfuly find the global minimum.\n",
    "The BFGS method is the overall best of the three methods when considering speed and accuracy.\n",
    "\n",
    "It is typically better to use derivative-based methods on minimizing functions that are easily differentiable. \n",
    "The Rosenbrock function is easily differentiable, allowing derivative-based methods like BRGS to be applied.\n",
    "While robust to a wider range of functions, derivate-free methods such as Powell and Nelder-Mead will converge more slowly."
   ]
  },
  {
   "cell_type": "markdown",
   "id": "5dbb399c",
   "metadata": {},
   "source": [
    "## Exercise 2"
   ]
  },
  {
   "cell_type": "markdown",
   "id": "c5e5b67d",
   "metadata": {},
   "source": [
    "#### Part a"
   ]
  },
  {
   "cell_type": "code",
   "execution_count": 48,
   "id": "664b1f20",
   "metadata": {},
   "outputs": [
    {
     "name": "stdout",
     "output_type": "stream",
     "text": [
      "Savings rate, s = 0.400\n",
      "TFP, A = 3.307\n"
     ]
    },
    {
     "data": {
      "text/plain": [
       "array([0.4      , 3.3066026])"
      ]
     },
     "execution_count": 48,
     "metadata": {},
     "output_type": "execute_result"
    }
   ],
   "source": [
    "alpha = 0.3\n",
    "delta = 0.1\n",
    "\n",
    "paras = [alpha, delta]\n",
    "\n",
    "def steady_state(vars, paras):\n",
    "    s, A = vars\n",
    "    k = (s*A/delta)**(1/(1-alpha))\n",
    "    y = A*k**alpha \n",
    "    eq_1 = y-10\n",
    "    eq_2 = (k/y)-4\n",
    "    return np.array([eq_1, eq_2])\n",
    "\n",
    "x0 = [0.1, 1]\n",
    "result_2a = optimize.fsolve(steady_state, x0, vars)\n",
    "\n",
    "# Display Values\n",
    "print(f\"Savings rate, s = {result_2a[0]:.3f}\")\n",
    "print(f\"TFP, A = {result_2a[1]:.3f}\")\n",
    "\n",
    "result_2a"
   ]
  },
  {
   "cell_type": "markdown",
   "id": "33f08f20",
   "metadata": {},
   "source": [
    "#### Part b"
   ]
  },
  {
   "cell_type": "code",
   "execution_count": 49,
   "id": "17ffd2cc",
   "metadata": {},
   "outputs": [
    {
     "name": "stdout",
     "output_type": "stream",
     "text": [
      "Capital per worker is 107.672\n",
      "Output per worker is 26.918\n"
     ]
    }
   ],
   "source": [
    "s = result_2a[0]\n",
    "A = result_2a[1]\n",
    "A_2b = 2*A\n",
    "\n",
    "\n",
    "def economy_per_capita(s, A, delta, alpha):\n",
    "    k = (s*A/delta)**(1/(1-alpha))\n",
    "    y = A*k**alpha\n",
    "    print(f\"Capital per worker is {k:.3f}\")\n",
    "    print(f\"Output per worker is {y:.3f}\")\n",
    "\n",
    "economy_per_capita(s, A_2b, delta, alpha)"
   ]
  },
  {
   "cell_type": "markdown",
   "id": "6c0948f6",
   "metadata": {},
   "source": [
    "#### Part c"
   ]
  },
  {
   "cell_type": "code",
   "execution_count": 50,
   "id": "4d7220fc",
   "metadata": {},
   "outputs": [],
   "source": [
    "def capital_per_worker(s,A,delta, alpha):\n",
    "    k = (s*A/delta)**(1/(1-alpha))\n",
    "    return k \n",
    "\n",
    "def output_per_worker(A,k,alpha):\n",
    "    y = A*k**alpha \n",
    "    return y \n",
    "\n",
    "k_initial = capital_per_worker(s,A, delta, alpha)    \n",
    "k_final = capital_per_worker(s,A_2b, delta, alpha)    \n",
    "y_initial = output_per_worker(A, k_initial, alpha)\n",
    "y_final = output_per_worker(A_2b, k_final, alpha)\n",
    "\n",
    "\n",
    "def law_of_motion(k0, s, A, alpha, delta):\n",
    "    eps = 0.5\n",
    "    k = []\n",
    "    k.append(k0)\n",
    "    k_new = k0\n",
    "    \n",
    "    while k_final-k_new>eps:\n",
    "        k_new = s*A*k_new**alpha + (1-delta)*k_new\n",
    "        k.append(k_new)\n",
    "    return k\n",
    "\n",
    "s = round(result_2a[0],1) #0.4\n",
    "A = result_2a[1] #3.3\n",
    "A_2b = 2*A #6.6\n",
    "\n",
    "k_list = law_of_motion(k_initial, s, A_2b, alpha, delta)\n",
    "\n",
    "def economic_growth(A,k,alpha):\n",
    "    y = []\n",
    "    y0 = round(y_initial,1)\n",
    "    y.append(y0)\n",
    "    y_new = y0\n",
    "    \n",
    "    for i in range(len(k)):\n",
    "        y_new = A*k[i]**alpha\n",
    "        y.append(y_new)\n",
    "    return y \n",
    "        \n",
    "y_list = economic_growth(A_2b,k_list, alpha)\n",
    "\n",
    "def time_iterations(k):\n",
    "    t = []\n",
    "    for i in range(len(k)):\n",
    "        t.append(i)\n",
    "    return t \n",
    "\n",
    "time1 = time_iterations(k_list)\n",
    "time2 = time_iterations(y_list)"
   ]
  },
  {
   "cell_type": "code",
   "execution_count": 51,
   "id": "42dbd43e",
   "metadata": {},
   "outputs": [
    {
     "data": {
      "image/png": "[encoded data removed]",
      "text/plain": [
       "<Figure size 1200x500 with 2 Axes>"
      ]
     },
     "metadata": {},
     "output_type": "display_data"
    }
   ],
   "source": [
    "# Graphing\n",
    "fig, ax = plt.subplots(1, 2, figsize=(12,5))\n",
    "\n",
    "# Plotting\n",
    "    # Capital Growth\n",
    "ax[0].plot(time1, k_list)\n",
    "ax[0].axhline(y=k_final, color=\"orange\")\n",
    "\n",
    "    # Economic Growth\n",
    "ax[1].plot(time2, y_list)\n",
    "ax[1].axhline(y=y_final, color=\"orange\")\n",
    "\n",
    "# Graph formatting\n",
    "    # Capital Growth\n",
    "ax[0].set_title(\"Capital Growth\")\n",
    "ax[0].set_ylabel(\"Output per Worker\")\n",
    "ax[0].set_xlabel(\"Time\")\n",
    "\n",
    "    # Economic Growth\n",
    "ax[1].set_title(\"Economic Growth\")\n",
    "ax[1].set_ylabel(\"Capital Stock\")\n",
    "ax[1].set_xlabel(\"Time\")\n",
    "\n",
    "plt.show()"
   ]
  },
  {
   "cell_type": "markdown",
   "id": "3dcbd65f",
   "metadata": {},
   "source": [
    "The plot on the right illustrates a very steep increase in capital stock in regards to economic growth in the early iterations. \n",
    "This aligns well with the assumptions under the Solow growth model, as it is argued that the level of capital stock is crucial in determining the steady-state output per worker. The model suggests that in the short-run, the increase in capital stock will result in an increase in output per worker, and thus an increase in economic growth. However, in the long run, the Solow growth model states that capital stock should converge to a stable level, as the economy needs to be in a steady state to allow for a balanced growth rate.\n",
    "\n",
    "Furthermore, it is seen that the plot on the left illustrates a very steep increase in output per worker in regards to capital growth. This could be attributed to the fact that we have doubled the initial value of the variable, A (total factor productivity), which means that the workers in the economy are twice as efficient as before. And as this will result in the economy to be more productive, workers will be more efficient and output per worker will increase exponentially in the early iterations.\n",
    "\n",
    "In the long-run, the output per worker also converges to a steady state under the Solow growth model, it is assumed that advances in technology happens at a constant rate. This assumption is made by the model to allow the economy to converge \n",
    "to a steady state and grow at a constant rate."
   ]
  },
  {
   "cell_type": "markdown",
   "id": "9dcfb23a",
   "metadata": {},
   "source": [
    "## Exercise 3"
   ]
  },
  {
   "cell_type": "markdown",
   "id": "7d814534",
   "metadata": {},
   "source": [
    "#### Part a"
   ]
  },
  {
   "cell_type": "code",
   "execution_count": 52,
   "id": "5290c106",
   "metadata": {},
   "outputs": [
    {
     "name": "stdout",
     "output_type": "stream",
     "text": [
      "Optimal Consumption in period 0 = 7.551\n",
      "Optimal Consumption in period 1 = 7.551\n",
      "Optimal Asset Holdings in period 1 = 2.449\n"
     ]
    },
    {
     "data": {
      "text/plain": [
       "array([7.55105391, 7.55098551, 2.44894609])"
      ]
     },
     "execution_count": 52,
     "metadata": {},
     "output_type": "execute_result"
    }
   ],
   "source": [
    "# Define CRRA per-period utility function\n",
    "def pp_util(c):\n",
    "    theta = 1.5\n",
    "    return (c**(1 - theta)/(1 - theta))\n",
    "\n",
    "# Define parameters\n",
    "beta = 0.96\n",
    "a0 = 0\n",
    "y = np.array([10, 5])\n",
    "r = (1/beta) - 1\n",
    "\n",
    "# Define objective function to 'minimize'\n",
    "def objective_function_a(x):    # x[0] = c0, x[1] = c1\n",
    "    c0, c1, a1 = x\n",
    "    return -(pp_util(c0) + beta*pp_util(c1)) \n",
    "\n",
    "def budget_constraints_a(x):\n",
    "    c0, c1, a1 = x              # We assign a1 as an item in x (x[2]) to assert that it should change depending on the values of consumption\n",
    "    eq_1 = c0 + a1 - y[0] - a0\n",
    "    eq_2 = c1 - y[1] - (1+r)*a1\n",
    "    return [eq_1 , eq_2]\n",
    "\n",
    "# Define arguments to pass into the optimize.minimize function:\n",
    "\n",
    "    # constraints\n",
    "cons = {'type': 'eq', 'fun': budget_constraints_a}\n",
    "\n",
    "    # x0\n",
    "xinit = [y.mean(), y.mean(), y[1] - y.mean()] # We use these values because we expect a smooth consumption curve\n",
    "#          c0         c1           a1\n",
    "\n",
    "    # bounds\n",
    "bnds = [(0, None), (0, None),    # Consumption is positive\n",
    "        (None, None)]            # Asset holdings can take any value; positive indicates saving, negative indicates borrowing.\n",
    "\n",
    "\n",
    "# Optimizing the objective function with the predefined arguments\n",
    "res_a = optimize.minimize(objective_function_a, x0=xinit,\n",
    "    method=\"SLSQP\", bounds=bnds, constraints=cons)\n",
    "\n",
    "# Display optimal values\n",
    "for i in range(2):\n",
    "    print(f\"Optimal Consumption in period {i} = {res_a.x[i]:.3f}\")\n",
    "for i in range(1):\n",
    "    print(f\"Optimal Asset Holdings in period {i+1} = {res_a.x[2+i]:.3f}\")\n",
    "\n",
    "res_a.x\n",
    "\n",
    "# PARAMETERS\n",
    "# x[0] is c0: the optimal consumption in period 0\n",
    "# x[1] is c1: the optimal consumption in period 1\n",
    "# x[2] is a1: the level of asset holdings in period 1"
   ]
  },
  {
   "cell_type": "code",
   "execution_count": 53,
   "id": "9263a6d2",
   "metadata": {},
   "outputs": [
    {
     "data": {
      "image/png": "[encoded data removed]",
      "text/plain": [
       "<Figure size 640x480 with 1 Axes>"
      ]
     },
     "metadata": {},
     "output_type": "display_data"
    }
   ],
   "source": [
    "# Plotting the graph\n",
    "x_grid = np.linspace(0,1,2) # 2 time periods\n",
    "\n",
    "fig, ax = plt.subplots()    # Create axes objects\n",
    "\n",
    "income = y                  # Income\n",
    "consumption = res_a.x[0:2]  # Consumption\n",
    "\n",
    "ax.plot(x_grid, income, label=\"Income\")\n",
    "ax.plot(x_grid, consumption, label=\"Consumption\")\n",
    "\n",
    "\n",
    "# Graph formatting\n",
    "ax.set_xlabel(\"Period, t\")\n",
    "ax.set_ylabel(\"Value\")\n",
    "plt.title(\"2 Period Life Cycle\")\n",
    "plt.legend()\n",
    "plt.xticks(range(2))\n",
    "ax.grid(axis=\"x\")\n",
    "plt.xlim((0,1))\n",
    "\n",
    "plt.show()"
   ]
  },
  {
   "cell_type": "markdown",
   "id": "4172fa0b",
   "metadata": {},
   "source": [
    "#### Part b"
   ]
  },
  {
   "cell_type": "code",
   "execution_count": 54,
   "id": "9021d01f",
   "metadata": {},
   "outputs": [
    {
     "name": "stdout",
     "output_type": "stream",
     "text": [
      "Optimal Consumption in period 0 = 7.549\n",
      "Optimal Consumption in period 1 = 7.546\n",
      "Optimal Consumption in period 2 = 7.546\n",
      "Optimal Consumption in period 3 = 7.546\n",
      "Optimal Asset Holdings in period 1 = -2.549\n",
      "Optimal Asset Holdings in period 2 = -0.201\n",
      "Optimal Asset Holdings in period 3 = 7.244\n"
     ]
    },
    {
     "data": {
      "text/plain": [
       "array([ 7.54905081,  7.54580479,  7.54649552,  7.54589655, -2.54905081,\n",
       "       -0.20106605,  7.24406068])"
      ]
     },
     "execution_count": 54,
     "metadata": {},
     "output_type": "execute_result"
    }
   ],
   "source": [
    "# Define parameters:\n",
    "beta = 0.96\n",
    "y = np.array([5, 10, 15, 0])\n",
    "a0 = 0\n",
    "r = (1/beta) - 1\n",
    "\n",
    "\n",
    "# Define objective function to 'minimize'\n",
    "def objective_function_b(x):    # x[0] = c0, x[1] = c1, x[2] = c2, x[3] = c3\n",
    "    c0, c1, c2, c3, a1, a2, a3 = x\n",
    "    return -(pp_util(c0) + beta*pp_util(c1) + \n",
    "        (beta**2)*pp_util(c2) + (beta**3)*pp_util(c3))\n",
    "\n",
    "# 4 constraints\n",
    "def budget_constraints_b(x):\n",
    "    c0, c1, c2, c3, a1, a2, a3 = x      # We assign a1, a2, and a3 to x[4], x[5] and x[6] respectively for the same reason as described in part a.\n",
    "    eq_1 = c0 + a1 - a0 - y[0]          # constraint 1\n",
    "    eq_2 = c1 + a2 - (1+r)*a1 - y[1]    # constraint 2\n",
    "    eq_3 = c2 + a3 - (1+r)*a2 - y[2]    # constraint 3\n",
    "    eq_4 = c3 - (1+r)*a3 - y[3]         # constraint 4\n",
    "    return [eq_1, eq_2, eq_3, eq_4]\n",
    "\n",
    "# Define arguments to pass into the optimize.minimize function:\n",
    "\n",
    "    # constraints\n",
    "cons = {\"type\" : \"eq\", \"fun\" : budget_constraints_b}\n",
    "\n",
    "    # x0\n",
    "xinit = [y.mean(), y.mean(), y.mean(), y.mean(),\n",
    "         y[1] - y.mean(), y[2] - y.mean(), y[3] - y.mean()]\n",
    "\n",
    "\n",
    "\n",
    "    # bounds\n",
    "bnds = [(0, None), (0, None), (0, None), (0, None), # Consumption values cannot be negative\n",
    "        (None, None), (None, None), (None, None)]   # Asset holdings can be any value (< 0 represents borrowing)\n",
    "                                                   \n",
    "# Optimizing the objective function with the predefined arguments\n",
    "res_b = optimize.minimize(objective_function_b, x0=xinit, method=\"SLSQP\",\n",
    "    bounds=bnds, constraints=cons)\n",
    "\n",
    "# Display optimal values\n",
    "for i in range(4):\n",
    "    print(f\"Optimal Consumption in period {i} = {res_b.x[i]:.3f}\")\n",
    "for i in range(3):\n",
    "    print(f\"Optimal Asset Holdings in period {i+1} = {res_b.x[4+i]:.3f}\")\n",
    "\n",
    "\n",
    "res_b.x\n",
    "\n",
    "# PARAMETERS\n",
    "# x[0] is c0: the optimal consumption in period 0\n",
    "# x[1] is c1: the optimal consumption in period 1\n",
    "# x[2] is c2: the optimal consumption in period 2\n",
    "# x[3] is c3: the optimal consumption in period 3\n",
    "# x[4] is a1: the level of asset holdings in period 1\n",
    "# x[5] is a2: the level of asset holdings in period 2\n",
    "# x[6] is a3: the level of asset holdings in period 3"
   ]
  },
  {
   "cell_type": "code",
   "execution_count": 55,
   "id": "1fd20904",
   "metadata": {},
   "outputs": [
    {
     "data": {
      "image/png": "[encoded data removed]",
      "text/plain": [
       "<Figure size 640x480 with 1 Axes>"
      ]
     },
     "metadata": {},
     "output_type": "display_data"
    }
   ],
   "source": [
    "# Plotting the graph\n",
    "x_grid = np.linspace(0,3,4) # 4 time periods\n",
    "\n",
    "fig, ax = plt.subplots()    # Create axes objects\n",
    "\n",
    "income = y                  # Income\n",
    "consumption = res_b.x[0:4]  # Consumption\n",
    "\n",
    "ax.plot(x_grid, income, label=\"Income\")\n",
    "ax.plot(x_grid, consumption, label=\"Consumption\")\n",
    "\n",
    "# Graph Formatting\n",
    "ax.set_xlabel(\"Period, t\")\n",
    "ax.set_ylabel(\"Value\")\n",
    "plt.title(\"4 Period Life Cycle\")\n",
    "plt.legend()\n",
    "plt.xticks(range(4))\n",
    "ax.grid(axis=\"x\")\n",
    "plt.ylim((0, np.max(income) + 1))    # Set y axis to start from 0\n",
    "plt.xlim((0,3))\n",
    "\n",
    "plt.show()"
   ]
  },
  {
   "cell_type": "markdown",
   "id": "f6f01b70",
   "metadata": {},
   "source": [
    "#### Part c"
   ]
  },
  {
   "cell_type": "code",
   "execution_count": 57,
   "id": "b95e593c",
   "metadata": {},
   "outputs": [
    {
     "name": "stdout",
     "output_type": "stream",
     "text": [
      "Optimal Consumption in period 0 = 7.746\n",
      "Optimal Consumption in period 1 = 7.585\n",
      "Optimal Consumption in period 2 = 7.431\n",
      "Optimal Consumption in period 3 = 7.279\n",
      "Optimal Asset Holdings in period 1 = -2.746\n",
      "Optimal Asset Holdings in period 2 = -0.358\n",
      "Optimal Asset Holdings in period 3 = 7.207\n"
     ]
    },
    {
     "data": {
      "text/plain": [
       "array([ 7.74608043,  7.58478097,  7.43108774,  7.27907691, -2.74608043,\n",
       "       -0.3583222 ,  7.20700684])"
      ]
     },
     "execution_count": 57,
     "metadata": {},
     "output_type": "execute_result"
    }
   ],
   "source": [
    "# Case 1: r = 0.01\n",
    "r = 0.01\n",
    "\n",
    "# cons argument needs to be redefined with the new value of r in order for the change to be processed in the minimize function\n",
    "cons = {\"type\" : \"eq\", \"fun\" : budget_constraints_b}\n",
    "\n",
    "res_c1 = optimize.minimize(objective_function_b, x0=xinit,\n",
    "    bounds=bnds, constraints=cons, method=\"SLSQP\")\n",
    "\n",
    "res_c1.x\n",
    "\n",
    "# PARAMETERS\n",
    "# Display optimal values\n",
    "for i in range(4):\n",
    "    print(f\"Optimal Consumption in period {i} = {res_c1.x[i]:.3f}\")\n",
    "for i in range(3):\n",
    "    print(f\"Optimal Asset Holdings in period {i+1} = {res_c1.x[4+i]:.3f}\")\n",
    "\n",
    "res_c1.x\n",
    "    \n",
    "\n",
    "# PARAMETERS\n",
    "# x[0] is c0: the optimal consumption in period 0\n",
    "# x[1] is c1: the optimal consumption in period 1\n",
    "# x[2] is c2: the optimal consumption in period 2\n",
    "# x[3] is c3: the optimal consumption in period 3\n",
    "# x[4] is a1: the level of asset holdings in period 1\n",
    "# x[5] is a2: the level of asset holdings in period 2\n",
    "# x[6] is a3: the level of asset holdings in period 3"
   ]
  },
  {
   "cell_type": "code",
   "execution_count": 58,
   "id": "6486876b",
   "metadata": {},
   "outputs": [
    {
     "name": "stdout",
     "output_type": "stream",
     "text": [
      "Optimal Consumption in period 0 = 7.559\n",
      "Optimal Consumption in period 1 = 7.548\n",
      "Optimal Consumption in period 2 = 7.540\n",
      "Optimal Consumption in period 3 = 7.532\n",
      "Optimal Asset Holdings in period 1 = -2.559\n",
      "Optimal Asset Holdings in period 2 = -0.209\n",
      "Optimal Asset Holdings in period 3 = 7.242\n"
     ]
    },
    {
     "data": {
      "text/plain": [
       "array([ 7.5590694 ,  7.5477457 ,  7.54038971,  7.53174792, -2.5590694 ,\n",
       "       -0.20917787,  7.24206531])"
      ]
     },
     "execution_count": 58,
     "metadata": {},
     "output_type": "execute_result"
    }
   ],
   "source": [
    "# Case 2: r = 0.04\n",
    "r = 0.04\n",
    "\n",
    "cons = {\"type\" : \"eq\", \"fun\" : budget_constraints_b}\n",
    "\n",
    "res_c2 = optimize.minimize(objective_function_b, x0=xinit,\n",
    "    bounds=bnds, constraints=cons, method=\"SLSQP\")\n",
    "    \n",
    "\n",
    "# PARAMETERS\n",
    "# Display optimal values\n",
    "for i in range(4):\n",
    "    print(f\"Optimal Consumption in period {i} = {res_c2.x[i]:.3f}\")\n",
    "for i in range(3):\n",
    "    print(f\"Optimal Asset Holdings in period {i+1} = {res_c2.x[4+i]:.3f}\")\n",
    "\n",
    "res_c2.x\n",
    "    \n",
    "# PARAMETERS\n",
    "# x[0] is c0: the optimal consumption in period 0\n",
    "# x[1] is c1: the optimal consumption in period 1\n",
    "# x[2] is c2: the optimal consumption in period 2\n",
    "# x[3] is c3: the optimal consumption in period 3\n",
    "# x[4] is a1: the level of asset holdings in period 1\n",
    "# x[5] is a2: the level of asset holdings in period 2\n",
    "# x[6] is a3: the level of asset holdings in period 3"
   ]
  },
  {
   "cell_type": "code",
   "execution_count": 59,
   "id": "f4cc13ce",
   "metadata": {},
   "outputs": [
    {
     "name": "stdout",
     "output_type": "stream",
     "text": [
      "Optimal Consumption in period 0 = 7.329\n",
      "Optimal Consumption in period 1 = 7.504\n",
      "Optimal Consumption in period 2 = 7.688\n",
      "Optimal Consumption in period 3 = 7.875\n",
      "Optimal Asset Holdings in period 1 = -2.329\n",
      "Optimal Asset Holdings in period 2 = -0.019\n",
      "Optimal Asset Holdings in period 3 = 7.291\n"
     ]
    },
    {
     "data": {
      "text/plain": [
       "array([ 7.32860673,  7.50427322,  7.68785667,  7.87475668, -2.32860673,\n",
       "       -0.01916848,  7.29144137])"
      ]
     },
     "execution_count": 59,
     "metadata": {},
     "output_type": "execute_result"
    }
   ],
   "source": [
    "# Case 3: r = 0.08\n",
    "r = 0.08\n",
    "\n",
    "cons = {\"type\" : \"eq\", \"fun\" : budget_constraints_b}\n",
    "\n",
    "res_c3 = optimize.minimize(objective_function_b, x0=xinit,\n",
    "    bounds=bnds, constraints=cons, method=\"SLSQP\")\n",
    "\n",
    "res_c3.x\n",
    "\n",
    "# PARAMETERS\n",
    "# Same as in part b\n",
    "# Display optimal values\n",
    "for i in range(4):\n",
    "    print(f\"Optimal Consumption in period {i} = {res_c3.x[i]:.3f}\")\n",
    "for i in range(3):\n",
    "    print(f\"Optimal Asset Holdings in period {i+1} = {res_c3.x[4+i]:.3f}\")\n",
    "\n",
    "res_c3.x    \n",
    "    \n",
    "# PARAMETERS\n",
    "# x[0] is c0: the optimal consumption in period 0\n",
    "# x[1] is c1: the optimal consumption in period 1\n",
    "# x[2] is c2: the optimal consumption in period 2\n",
    "# x[3] is c3: the optimal consumption in period 3\n",
    "# x[4] is a1: the level of asset holdings in period 1\n",
    "# x[5] is a2: the level of asset holdings in period 2\n",
    "# x[6] is a3: the level of asset holdings in period 3"
   ]
  },
  {
   "cell_type": "code",
   "execution_count": 61,
   "id": "7a7ebb12",
   "metadata": {},
   "outputs": [
    {
     "data": {
      "image/png": "[encoded data removed]",
      "text/plain": [
       "<Figure size 1000x500 with 2 Axes>"
      ]
     },
     "metadata": {},
     "output_type": "display_data"
    }
   ],
   "source": [
    "# Graphing\n",
    "# BOTH GRAPHS ARE IDENTICAL, except the second one has a larger y range to provide a better comparison between other graphs in question 3\n",
    "\n",
    "x_grid = np.linspace(0, 3, 4)\n",
    "fig, ax = plt.subplots(1,2, figsize=(10, 5))\n",
    "\n",
    "consumption_r1 = res_c1.x[0:4]\n",
    "consumption_r2 = res_c2.x[0:4]\n",
    "consumption_r3 = res_c3.x[0:4]\n",
    "\n",
    "# Plotting\n",
    "ax[0].plot(x_grid, consumption_r1, label=\"r = 0.01\")\n",
    "ax[0].plot(x_grid, consumption_r2, label=\"r = 0.04\")\n",
    "ax[0].plot(x_grid, consumption_r3, label=\"r = 0.08\")\n",
    "\n",
    "ax[1].plot(x_grid, consumption_r1, label=\"r = 0.01\")\n",
    "ax[1].plot(x_grid, consumption_r2, label=\"r = 0.04\")\n",
    "ax[1].plot(x_grid, consumption_r3, label=\"r = 0.08\")\n",
    "\n",
    "\n",
    "# Graph Formatting\n",
    "fig.suptitle(\"4 Period Life Cycle - Various Interest Rates, r\")\n",
    "\n",
    "    # Small range graph\n",
    "ax[0].set_xlabel(\"Period, t\")\n",
    "ax[0].set_ylabel(\"Value\")\n",
    "ax[0].set_title(\"Narrower view\")\n",
    "ax[0].legend()\n",
    "ax[0].set_xlim((0,3))\n",
    "ax[0].set_xticks(range(4))\n",
    "ax[0].grid(axis=\"x\")\n",
    "\n",
    "    # Large range graph\n",
    "ax[1].set_xlabel(\"Period, t\")\n",
    "ax[1].set_ylabel(\"Value\")\n",
    "ax[1].set_title(\"Wider view\")\n",
    "ax[1].legend()\n",
    "ax[1].set_xlim((0,3))\n",
    "ax[1].set_ylim((0,10))\n",
    "ax[1].set_xticks(range(4))\n",
    "ax[1].grid(axis=\"x\")\n",
    "\n",
    "plt.tight_layout()\n",
    "plt.show()"
   ]
  },
  {
   "cell_type": "markdown",
   "id": "05e4c0ce",
   "metadata": {},
   "source": [
    "r represents the the risk-free interest rate, which shows by how much current assets gain in value each period.\n",
    "\n",
    "Now that r =/= (1/beta) - 1, we will not see constant consumption over multiple periods.\n",
    "\n",
    "When r is smaller than 1/beta - 1 (0.01), the benefit of saving is less than the current utility derived from more consumption \n",
    "in future periods. Hence, the r = 0.01 curve is higher in initial periods.\n",
    "\n",
    "When r is larger than 1/beta - 1, the realized future gains from saving in earlier periods are higher than the reduction in \n",
    "utility associated with future periods due to the discount factor.\n",
    "\n",
    "This is shown in the graphs; as r increases, the lower consumption is in earlier periods, and the higher consumption is in later periods."
   ]
  },
  {
   "cell_type": "markdown",
   "id": "66686b9a",
   "metadata": {},
   "source": [
    "#### Part d"
   ]
  },
  {
   "cell_type": "code",
   "execution_count": 62,
   "id": "24607ddc",
   "metadata": {},
   "outputs": [
    {
     "name": "stdout",
     "output_type": "stream",
     "text": [
      "Optimal Consumption in period 0 = 7.090\n",
      "Optimal Consumption in period 1 for low income realization = 5.531\n",
      "Optimal Consumption in period 2 for high income realization= 10.531\n",
      "Optimal Assets in period 1 = 2.910\n"
     ]
    }
   ],
   "source": [
    "# Define CRRA per-period utility function\n",
    "def pp_util(c):\n",
    "    theta = 1.5\n",
    "    return (c**(1 - theta)/(1 - theta))\n",
    "\n",
    "# Define parameters\n",
    "beta = 0.96\n",
    "a0 = 0\n",
    "y = np.array([10, 2.5, 7.5])   # [y0, y1l, y1h]\n",
    "r = (1/beta) - 1\n",
    "p_l=0.5\n",
    "p_h=1-p_l\n",
    "\n",
    "# Define objective function to 'minimize'\n",
    "def objective_function_d(x):      # x[0] = c0, x[1] = c1_l , x[2]=c1_h,  x[3]=a1\n",
    "    c0, c1_l, c1_h, a1 = x\n",
    "    return -(pp_util(c0) + p_l*beta*pp_util(c1_l) + p_h*beta*pp_util(c1_h))   # u(c0) + beta*E[u(c1)]\n",
    "\n",
    "def budget_constraints_d(x):\n",
    "    c0, c1_l, c1_h, a1 = x          # We assign a1 as an item in x (x[3]) to assert that it should change depending on the values of consumption\n",
    "    eq_1 = c0 + a1 - y[0] - a0\n",
    "    eq_2 = c1_l - y[1] - (1+r)*a1   # if y1 = y1l\n",
    "    eq_3 = c1_h - y[2] - (1+r)*a1   # if y1 = y1h\n",
    "    return [eq_1 , eq_2, eq_3]\n",
    "\n",
    "# Define arguments to pass into the optimize.minimize function:\n",
    "\n",
    "    # constraints\n",
    "cons = {'type': 'eq', 'fun': budget_constraints_d}\n",
    "\n",
    "    # x0\n",
    "xinit = [y.mean(), y.mean(), y.mean(), y[1] - y.mean()]\n",
    "#         c0        c1_l        c1_h         a1\n",
    "\n",
    "    # bounds\n",
    "bnds = [(0, None), (0, None), (0,None), (None, None)] \n",
    "                                         \n",
    "# Optimizing the objective function with the predefined arguments\n",
    "res_d = optimize.minimize(objective_function_d, x0=xinit,\n",
    "    method=\"SLSQP\", bounds=bnds, constraints=cons)\n",
    "\n",
    "# Display optimal values\n",
    "res_d.x\n",
    "\n",
    "#PARAMETERS\n",
    "print(f\"Optimal Consumption in period 0 = {res_d.x[0]:.3f}\")\n",
    "print(f\"Optimal Consumption in period 1 for low income realization = {res_d.x[1]:.3f}\")\n",
    "print(f\"Optimal Consumption in period 2 for high income realization= {res_d.x[2]:.3f}\")\n",
    "print(f\"Optimal Assets in period 1 = {res_d.x[3]:.3f}\")\n",
    "\n",
    "\n",
    "# PARAMETERS\n",
    "# x[0] is c0: the optimal consumption in period 0\n",
    "# x[1] is c1_l: the resulting optimal consumption in period 1 if income is low\n",
    "# x[2] is c1_h: the resulting optimal consumption in period 1 if income is high\n",
    "# x[3] is a1: the level of asset holdings in period 1"
   ]
  },
  {
   "cell_type": "code",
   "execution_count": 63,
   "id": "6cb23ed2",
   "metadata": {},
   "outputs": [
    {
     "data": {
      "image/png": "[encoded data removed]",
      "text/plain": [
       "<Figure size 1000x500 with 2 Axes>"
      ]
     },
     "metadata": {},
     "output_type": "display_data"
    }
   ],
   "source": [
    "# Graphing\n",
    "fig, ax = plt.subplots(1,2, figsize=(10,5))\n",
    "\n",
    "# Income\n",
    "income_low=[y[0], y[1]]\n",
    "income_high=[y[0], y[2]]\n",
    "\n",
    "# Consumption\n",
    "consumption_low=[res_d.x[0], res_d.x[1]]\n",
    "consumption_high=[res_d.x[0], res_d.x[2]]\n",
    "\n",
    "x_grid = np.linspace(0,1,2) # 2 time periods\n",
    "\n",
    "#Plotting\n",
    "ax[0].plot(x_grid, income_low, label=\"income low\")\n",
    "ax[0].plot(x_grid, consumption_low, label=\"consumption low\")\n",
    "\n",
    "ax[1].plot(x_grid, income_high, label=\"income high\")\n",
    "ax[1].plot(x_grid, consumption_high, label=\"consumption high\")\n",
    "\n",
    "# Graph Formatting\n",
    "    # Low Income Life Cycle\n",
    "ax[0].set_title(\"Low Income Life Cycle\")\n",
    "ax[0].set_xlabel(\"Time\")\n",
    "ax[0].set_ylabel(\"Value\")\n",
    "ax[0].legend()\n",
    "ax[0].set_ylim((2,11))\n",
    "ax[0].set_xlim((0, 1))\n",
    "ax[0].set_xticks(range(2))\n",
    "\n",
    "    # High Income Life Cycle\n",
    "ax[1].set_title(\"High Income Life Cycle\")\n",
    "ax[1].set_xlabel(\"Time\")\n",
    "ax[1].set_ylabel(\"Value\")\n",
    "ax[1].legend()\n",
    "ax[1].set_ylim((2, 11))\n",
    "ax[1].set_xlim((0, 1))\n",
    "ax[1].set_xticks(range(2))\n",
    "\n",
    "plt.tight_layout()\n",
    "plt.show()"
   ]
  },
  {
   "cell_type": "markdown",
   "id": "4813bcdf",
   "metadata": {},
   "source": [
    "#### Part e"
   ]
  },
  {
   "cell_type": "markdown",
   "id": "4a717c54",
   "metadata": {},
   "source": [
    "Savings increase from 2.45 in the case with certainty to 2.91 with uncertainty.\n",
    "\n",
    "Since the CRRA utility function is concave, additional units of consumption are valued less and less.\n",
    "If a \"bad\" state of the world (ie low income) is realized, an additional unit of consumption in period 1 will be valued more than if a \"good\" state of the world (ie high income) is realized. \n",
    "Therefore, the economic agent wants to distribute consumption such that consumption in the bad state of the world can be increased.\n",
    "\n",
    "The economic agent is best of by reducing consumption in period 0 and shift parts of consumption to the future in case of a bad state of the world realizing. \n",
    "If the agent had certainty about low income in the future, savings would be higher; and vice versa if there was certainty of high income in the future, savings would be lower (or perhaps even negative)."
   ]
  },
  {
   "cell_type": "code",
   "execution_count": null,
   "id": "1ea4790e",
   "metadata": {},
   "outputs": [],
   "source": []
  }
 ],
 "metadata": {
  "kernelspec": {
   "display_name": "Python 3 (ipykernel)",
   "language": "python",
   "name": "python3"
  },
  "language_info": {
   "codemirror_mode": {
    "name": "ipython",
    "version": 3
   },
   "file_extension": ".py",
   "mimetype": "text/x-python",
   "name": "python",
   "nbconvert_exporter": "python",
   "pygments_lexer": "ipython3",
   "version": "3.9.13"
  }
 },
 "nbformat": 4,
 "nbformat_minor": 5
}
